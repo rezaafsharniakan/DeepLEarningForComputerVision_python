{
  "nbformat": 4,
  "nbformat_minor": 0,
  "metadata": {
    "colab": {
      "provenance": [],
      "gpuType": "T4",
      "authorship_tag": "ABX9TyPNTabiXVEaSwUOQ4m18T9d",
      "include_colab_link": true
    },
    "kernelspec": {
      "name": "python3",
      "display_name": "Python 3"
    },
    "language_info": {
      "name": "python"
    },
    "accelerator": "GPU"
  },
  "cells": [
    {
      "cell_type": "markdown",
      "metadata": {
        "id": "view-in-github",
        "colab_type": "text"
      },
      "source": [
        "<a href=\"https://colab.research.google.com/github/rezaafsharniakan/DeepLEarningForComputerVision_python/blob/main/Neural_style_transfer_in_Keras.ipynb\" target=\"_parent\"><img src=\"https://colab.research.google.com/assets/colab-badge.svg\" alt=\"Open In Colab\"/></a>"
      ]
    },
    {
      "cell_type": "code",
      "execution_count": 1,
      "metadata": {
        "colab": {
          "base_uri": "https://localhost:8080/"
        },
        "id": "bS_3y9uzgwLL",
        "outputId": "7f68ab5d-376c-4d64-f340-3e84fe2ed0be"
      },
      "outputs": [
        {
          "output_type": "stream",
          "name": "stdout",
          "text": [
            "Downloading data from https://encrypted-tbn0.gstatic.com/images?q=tbn:ANd9GcQZzMLVR8a934zvadogkkmipraRAvV_ofIzbw&usqp=CAU\n",
            "9488/9488 [==============================] - 0s 0us/step\n",
            "Downloading data from https://bloximages.newyork1.vip.townnews.com/myleaderpaper.com/content/tncms/assets/v3/editorial/8/65/8652cf99-0f7d-556d-8851-fb91429949ac/63d538a1bcad7.image.jpg\n",
            "261383/261383 [==============================] - 0s 0us/step\n"
          ]
        }
      ],
      "source": [
        "#Getting the style and content images\n",
        "\n",
        "from tensorflow import keras\n",
        "base_image_path = keras.utils.get_file(\n",
        "  \"sf.jpg\", origin=\"https://encrypted-tbn0.gstatic.com/images?q=tbn:ANd9GcQZzMLVR8a934zvadogkkmipraRAvV_ofIzbw&usqp=CAU\")\n",
        "style_reference_image_path = keras.utils.get_file(\n",
        "  \"starry_night.jpg\",\n",
        "  origin=\"https://bloximages.newyork1.vip.townnews.com/myleaderpaper.com/content/tncms/assets/v3/editorial/8/65/8652cf99-0f7d-556d-8851-fb91429949ac/63d538a1bcad7.image.jpg\")\n",
        "original_width, original_height = keras.utils.load_img(base_image_path).size\n",
        "img_height = 400\n",
        "img_width = round(original_width * img_height / original_height)"
      ]
    },
    {
      "cell_type": "code",
      "source": [
        "#Auxiliary functions\n",
        "\n",
        "import numpy as np\n",
        "def preprocess_image(image_path):\n",
        "    img = keras.utils.load_img(\n",
        "    image_path, target_size=(img_height, img_width))\n",
        "    img = keras.utils.img_to_array(img)\n",
        "    img = np.expand_dims(img, axis=0)\n",
        "    img = keras.applications.vgg19.preprocess_input(img)\n",
        "    return img\n",
        "def deprocess_image(img):\n",
        "    img = img.reshape((img_height, img_width, 3))\n",
        "    img[:, :, 0] += 103.939\n",
        "    img[:, :, 1] += 116.779\n",
        "    img[:, :, 2] += 123.68\n",
        "    img = img[:, :, ::-1]\n",
        "    img = np.clip(img, 0, 255).astype(\"uint8\")\n",
        "    return img"
      ],
      "metadata": {
        "id": "6LNKvYcxhAnL"
      },
      "execution_count": 2,
      "outputs": []
    },
    {
      "cell_type": "code",
      "source": [
        "#Using a pretrained VGG19 model to create a feature extractor\n",
        "\n",
        "model = keras.applications.vgg19.VGG19(weights=\"imagenet\", include_top=False)\n",
        "outputs_dict = dict([(layer.name, layer.output) for layer in model.layers])\n",
        "feature_extractor = keras.Model(inputs=model.inputs, outputs=outputs_dict)"
      ],
      "metadata": {
        "colab": {
          "base_uri": "https://localhost:8080/"
        },
        "id": "XdlgnNjR-iL1",
        "outputId": "480cb087-b07a-41c1-dc73-e47754b8c066"
      },
      "execution_count": 3,
      "outputs": [
        {
          "output_type": "stream",
          "name": "stdout",
          "text": [
            "Downloading data from https://storage.googleapis.com/tensorflow/keras-applications/vgg19/vgg19_weights_tf_dim_ordering_tf_kernels_notop.h5\n",
            "80134624/80134624 [==============================] - 1s 0us/step\n"
          ]
        }
      ]
    },
    {
      "cell_type": "code",
      "source": [
        "# Content loss\n",
        "def content_loss(base_img, combination_img):\n",
        "    return tf.reduce_sum(tf.square(combination_img - base_img))"
      ],
      "metadata": {
        "id": "Aebhw-X8-nMw"
      },
      "execution_count": 4,
      "outputs": []
    },
    {
      "cell_type": "code",
      "source": [
        "# Style loss\n",
        "def gram_matrix(x):\n",
        "    x = tf.transpose(x, (2, 0, 1))\n",
        "    features = tf.reshape(x, (tf.shape(x)[0], -1))\n",
        "    gram = tf.matmul(features, tf.transpose(features))\n",
        "    return gram\n",
        "def style_loss(style_img, combination_img):\n",
        "    S = gram_matrix(style_img)\n",
        "    C = gram_matrix(combination_img)\n",
        "    channels = 3\n",
        "    size = img_height * img_width\n",
        "    return tf.reduce_sum(tf.square(S - C)) / (4.0 * (channels ** 2) * (size ** 2))"
      ],
      "metadata": {
        "id": "vNHxKivp-rZW"
      },
      "execution_count": 5,
      "outputs": []
    },
    {
      "cell_type": "code",
      "source": [
        "# Total variation loss\n",
        "def total_variation_loss(x):\n",
        "    a = tf.square(\n",
        "        x[:, : img_height - 1, : img_width - 1, :] - x[:, 1:, : img_width - 1, :]\n",
        "    )\n",
        "    b = tf.square(\n",
        "        x[:, : img_height - 1, : img_width - 1, :] - x[:, : img_height - 1, 1:, :]\n",
        "    )\n",
        "    return tf.reduce_sum(tf.pow(a + b, 1.25))"
      ],
      "metadata": {
        "id": "sax1Ky8z-wY0"
      },
      "execution_count": 6,
      "outputs": []
    },
    {
      "cell_type": "code",
      "source": [
        "# Defining the final loss that you’ll minimize\n",
        "style_layer_names = [\n",
        "    \"block1_conv1\",\n",
        "    \"block2_conv1\",\n",
        "    \"block3_conv1\",\n",
        "    \"block4_conv1\",\n",
        "    \"block5_conv1\",\n",
        "]\n",
        "content_layer_name = \"block5_conv2\"\n",
        "total_variation_weight = 1e-6\n",
        "style_weight = 1e-6\n",
        "content_weight = 2.5e-8\n",
        "def compute_loss(combination_image, base_image, style_reference_image):\n",
        "    input_tensor = tf.concat(\n",
        "        [base_image, style_reference_image, combination_image], axis=0)\n",
        "    features = feature_extractor(input_tensor)\n",
        "    loss = tf.zeros(shape=())\n",
        "    layer_features = features[content_layer_name]\n",
        "    base_image_features = layer_features[0, :, :, :]\n",
        "    combination_features = layer_features[2, :, :, :]\n",
        "    loss = loss + content_weight * content_loss(\n",
        "        base_image_features, combination_features\n",
        "    )\n",
        "    for layer_name in style_layer_names:\n",
        "        layer_features = features[layer_name]\n",
        "        style_reference_features = layer_features[1, :, :, :]\n",
        "        combination_features = layer_features[2, :, :, :]\n",
        "        style_loss_value = style_loss(\n",
        "        style_reference_features, combination_features)\n",
        "        loss += (style_weight / len(style_layer_names)) * style_loss_value\n",
        "    loss += total_variation_weight * total_variation_loss(combination_image)\n",
        "    return loss"
      ],
      "metadata": {
        "id": "kKwsWQpf-1UZ"
      },
      "execution_count": 7,
      "outputs": []
    },
    {
      "cell_type": "code",
      "source": [
        " #Setting up the gradient-descent process\n",
        "\n",
        "import tensorflow as tf\n",
        "@tf.function\n",
        "def compute_loss_and_grads(\n",
        "    combination_image, base_image, style_reference_image):\n",
        "    with tf.GradientTape() as tape:\n",
        "        loss = compute_loss(combination_image, base_image, style_reference_image)\n",
        "    grads = tape.gradient(loss, combination_image)\n",
        "    return loss, grads\n",
        "optimizer = keras.optimizers.SGD(\n",
        "    keras.optimizers.schedules.ExponentialDecay(initial_learning_rate=100.0, decay_steps=100, decay_rate=0.96))\n",
        "\n",
        "base_image = preprocess_image(base_image_path)\n",
        "style_reference_image = preprocess_image(style_reference_image_path)\n",
        "combination_image = tf.Variable(preprocess_image(base_image_path))\n",
        "iterations = 4000\n",
        "for i in range(1, iterations + 1):\n",
        "    loss, grads = compute_loss_and_grads(combination_image, base_image, style_reference_image)\n",
        "    optimizer.apply_gradients([(grads, combination_image)])\n",
        "    if i % 100 == 0:\n",
        "        print(f\"Iteration {i}: loss={loss:.2f}\")\n",
        "        img = deprocess_image(combination_image.numpy())\n",
        "        fname = f\"combination_image_at_iteration_{i}.png\"\n",
        "        keras.utils.save_img(fname, img)"
      ],
      "metadata": {
        "colab": {
          "base_uri": "https://localhost:8080/"
        },
        "id": "HmyhLhBJ-5fx",
        "outputId": "28c81dc2-37cc-4b45-f86c-c6231279ab9b"
      },
      "execution_count": 8,
      "outputs": [
        {
          "output_type": "stream",
          "name": "stdout",
          "text": [
            "Iteration 100: loss=6353.59\n",
            "Iteration 200: loss=5114.70\n",
            "Iteration 300: loss=4553.68\n",
            "Iteration 400: loss=4220.45\n",
            "Iteration 500: loss=3995.90\n",
            "Iteration 600: loss=3831.66\n",
            "Iteration 700: loss=3705.19\n",
            "Iteration 800: loss=3603.95\n",
            "Iteration 900: loss=3520.76\n",
            "Iteration 1000: loss=3450.90\n",
            "Iteration 1100: loss=3391.15\n",
            "Iteration 1200: loss=3339.48\n",
            "Iteration 1300: loss=3294.18\n",
            "Iteration 1400: loss=3254.21\n",
            "Iteration 1500: loss=3218.83\n",
            "Iteration 1600: loss=3187.27\n",
            "Iteration 1700: loss=3158.82\n",
            "Iteration 1800: loss=3133.11\n",
            "Iteration 1900: loss=3109.73\n",
            "Iteration 2000: loss=3088.38\n",
            "Iteration 2100: loss=3068.81\n",
            "Iteration 2200: loss=3050.85\n",
            "Iteration 2300: loss=3034.28\n",
            "Iteration 2400: loss=3018.98\n",
            "Iteration 2500: loss=3004.84\n",
            "Iteration 2600: loss=2991.74\n",
            "Iteration 2700: loss=2979.58\n",
            "Iteration 2800: loss=2968.24\n",
            "Iteration 2900: loss=2957.67\n",
            "Iteration 3000: loss=2947.80\n",
            "Iteration 3100: loss=2938.56\n",
            "Iteration 3200: loss=2929.89\n",
            "Iteration 3300: loss=2921.74\n",
            "Iteration 3400: loss=2914.10\n",
            "Iteration 3500: loss=2906.93\n",
            "Iteration 3600: loss=2900.19\n",
            "Iteration 3700: loss=2893.86\n",
            "Iteration 3800: loss=2887.90\n",
            "Iteration 3900: loss=2882.28\n",
            "Iteration 4000: loss=2876.98\n"
          ]
        }
      ]
    }
  ]
}